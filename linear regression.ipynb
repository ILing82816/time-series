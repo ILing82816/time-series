{
 "cells": [
  {
   "cell_type": "code",
   "execution_count": 1,
   "metadata": {},
   "outputs": [],
   "source": [
    "import pandas as pd\n",
    "import numpy as np\n",
    "import seaborn as sns\n",
    "import matplotlib.pyplot as plt\n",
    "from datetime import datetime\n",
    "%matplotlib inline"
   ]
  },
  {
   "cell_type": "markdown",
   "metadata": {},
   "source": [
    "# Data preparation"
   ]
  },
  {
   "cell_type": "code",
   "execution_count": 2,
   "metadata": {},
   "outputs": [
    {
     "data": {
      "text/html": [
       "<div>\n",
       "<style scoped>\n",
       "    .dataframe tbody tr th:only-of-type {\n",
       "        vertical-align: middle;\n",
       "    }\n",
       "\n",
       "    .dataframe tbody tr th {\n",
       "        vertical-align: top;\n",
       "    }\n",
       "\n",
       "    .dataframe thead th {\n",
       "        text-align: right;\n",
       "    }\n",
       "</style>\n",
       "<table border=\"1\" class=\"dataframe\">\n",
       "  <thead>\n",
       "    <tr style=\"text-align: right;\">\n",
       "      <th></th>\n",
       "      <th>nyoil</th>\n",
       "    </tr>\n",
       "    <tr>\n",
       "      <th>Date</th>\n",
       "      <th></th>\n",
       "    </tr>\n",
       "  </thead>\n",
       "  <tbody>\n",
       "    <tr>\n",
       "      <th>1983-04-04</th>\n",
       "      <td>29.44</td>\n",
       "    </tr>\n",
       "    <tr>\n",
       "      <th>1983-04-05</th>\n",
       "      <td>29.71</td>\n",
       "    </tr>\n",
       "    <tr>\n",
       "      <th>1983-04-06</th>\n",
       "      <td>29.92</td>\n",
       "    </tr>\n",
       "    <tr>\n",
       "      <th>1983-04-07</th>\n",
       "      <td>30.17</td>\n",
       "    </tr>\n",
       "    <tr>\n",
       "      <th>1983-04-08</th>\n",
       "      <td>30.38</td>\n",
       "    </tr>\n",
       "  </tbody>\n",
       "</table>\n",
       "</div>"
      ],
      "text/plain": [
       "            nyoil\n",
       "Date             \n",
       "1983-04-04  29.44\n",
       "1983-04-05  29.71\n",
       "1983-04-06  29.92\n",
       "1983-04-07  30.17\n",
       "1983-04-08  30.38"
      ]
     },
     "execution_count": 2,
     "metadata": {},
     "output_type": "execute_result"
    }
   ],
   "source": [
    "NYoil = pd.read_csv('RCLC1d.csv',parse_dates =[\"Date\"], index_col =\"Date\")\n",
    "NYoil.rename(columns={'Cushing, OK Crude Oil Future Contract 1 (Dollars per Barrel)':'nyoil'}, inplace=True)\n",
    "NYoil1 = NYoil.loc['2009-11-16':'2019-09-30']\n",
    "NYoil=NYoil.loc['1983-04-04':'2019-10-01']\n",
    "NYoil.head()"
   ]
  },
  {
   "cell_type": "code",
   "execution_count": 3,
   "metadata": {},
   "outputs": [
    {
     "data": {
      "text/html": [
       "<div>\n",
       "<style scoped>\n",
       "    .dataframe tbody tr th:only-of-type {\n",
       "        vertical-align: middle;\n",
       "    }\n",
       "\n",
       "    .dataframe tbody tr th {\n",
       "        vertical-align: top;\n",
       "    }\n",
       "\n",
       "    .dataframe thead th {\n",
       "        text-align: right;\n",
       "    }\n",
       "</style>\n",
       "<table border=\"1\" class=\"dataframe\">\n",
       "  <thead>\n",
       "    <tr style=\"text-align: right;\">\n",
       "      <th></th>\n",
       "      <th>10yearbond</th>\n",
       "    </tr>\n",
       "    <tr>\n",
       "      <th>date</th>\n",
       "      <th></th>\n",
       "    </tr>\n",
       "  </thead>\n",
       "  <tbody>\n",
       "    <tr>\n",
       "      <th>2009-11-16</th>\n",
       "      <td>3.33</td>\n",
       "    </tr>\n",
       "    <tr>\n",
       "      <th>2009-11-17</th>\n",
       "      <td>3.33</td>\n",
       "    </tr>\n",
       "    <tr>\n",
       "      <th>2009-11-18</th>\n",
       "      <td>3.36</td>\n",
       "    </tr>\n",
       "    <tr>\n",
       "      <th>2009-11-19</th>\n",
       "      <td>3.35</td>\n",
       "    </tr>\n",
       "    <tr>\n",
       "      <th>2009-11-20</th>\n",
       "      <td>3.36</td>\n",
       "    </tr>\n",
       "  </tbody>\n",
       "</table>\n",
       "</div>"
      ],
      "text/plain": [
       "            10yearbond\n",
       "date                  \n",
       "2009-11-16        3.33\n",
       "2009-11-17        3.33\n",
       "2009-11-18        3.36\n",
       "2009-11-19        3.35\n",
       "2009-11-20        3.36"
      ]
     },
     "execution_count": 3,
     "metadata": {},
     "output_type": "execute_result"
    }
   ],
   "source": [
    "bond = pd.read_csv('10yeartreasurybondrateyield.csv',parse_dates =[\"date\"], index_col =\"date\")\n",
    "bond.rename(columns={'date':'date','value':'10yearbond'}, \n",
    "                 inplace=True)\n",
    "#bond=bond.set_index('date')\n",
    "bond = bond.loc['2009-11-16':'2019-09-30']    \n",
    "bond.head()"
   ]
  },
  {
   "cell_type": "code",
   "execution_count": 4,
   "metadata": {},
   "outputs": [
    {
     "data": {
      "text/html": [
       "<div>\n",
       "<style scoped>\n",
       "    .dataframe tbody tr th:only-of-type {\n",
       "        vertical-align: middle;\n",
       "    }\n",
       "\n",
       "    .dataframe tbody tr th {\n",
       "        vertical-align: top;\n",
       "    }\n",
       "\n",
       "    .dataframe thead th {\n",
       "        text-align: right;\n",
       "    }\n",
       "</style>\n",
       "<table border=\"1\" class=\"dataframe\">\n",
       "  <thead>\n",
       "    <tr style=\"text-align: right;\">\n",
       "      <th></th>\n",
       "      <th>rts</th>\n",
       "    </tr>\n",
       "    <tr>\n",
       "      <th>Date</th>\n",
       "      <th></th>\n",
       "    </tr>\n",
       "  </thead>\n",
       "  <tbody>\n",
       "    <tr>\n",
       "      <th>2019-09-30</th>\n",
       "      <td>1333.91</td>\n",
       "    </tr>\n",
       "    <tr>\n",
       "      <th>2019-09-27</th>\n",
       "      <td>1347.72</td>\n",
       "    </tr>\n",
       "    <tr>\n",
       "      <th>2019-09-26</th>\n",
       "      <td>1359.59</td>\n",
       "    </tr>\n",
       "    <tr>\n",
       "      <th>2019-09-25</th>\n",
       "      <td>1354.01</td>\n",
       "    </tr>\n",
       "    <tr>\n",
       "      <th>2019-09-24</th>\n",
       "      <td>1358.80</td>\n",
       "    </tr>\n",
       "  </tbody>\n",
       "</table>\n",
       "</div>"
      ],
      "text/plain": [
       "                rts\n",
       "Date               \n",
       "2019-09-30  1333.91\n",
       "2019-09-27  1347.72\n",
       "2019-09-26  1359.59\n",
       "2019-09-25  1354.01\n",
       "2019-09-24  1358.80"
      ]
     },
     "execution_count": 4,
     "metadata": {},
     "output_type": "execute_result"
    }
   ],
   "source": [
    "rts = pd.read_csv('RTSI.csv',parse_dates =[\"Date\"], index_col =\"Date\")\n",
    "rts.rename(columns={'Date':\"date\",'Price':'rts'}, \n",
    "                 inplace=True)\n",
    "rts = rts.drop(['Open','High','Low',\"Vol.\",\"Change %\"], axis =1)\n",
    "rts = rts.loc['2019-09-30':'2009-11-16']\n",
    "rts.head()\n"
   ]
  },
  {
   "cell_type": "code",
   "execution_count": 5,
   "metadata": {},
   "outputs": [
    {
     "data": {
      "text/html": [
       "<div>\n",
       "<style scoped>\n",
       "    .dataframe tbody tr th:only-of-type {\n",
       "        vertical-align: middle;\n",
       "    }\n",
       "\n",
       "    .dataframe tbody tr th {\n",
       "        vertical-align: top;\n",
       "    }\n",
       "\n",
       "    .dataframe thead th {\n",
       "        text-align: right;\n",
       "    }\n",
       "</style>\n",
       "<table border=\"1\" class=\"dataframe\">\n",
       "  <thead>\n",
       "    <tr style=\"text-align: right;\">\n",
       "      <th></th>\n",
       "      <th>xop</th>\n",
       "    </tr>\n",
       "    <tr>\n",
       "      <th>Date</th>\n",
       "      <th></th>\n",
       "    </tr>\n",
       "  </thead>\n",
       "  <tbody>\n",
       "    <tr>\n",
       "      <th>2009-11-16</th>\n",
       "      <td>40.209999</td>\n",
       "    </tr>\n",
       "    <tr>\n",
       "      <th>2009-11-17</th>\n",
       "      <td>39.759998</td>\n",
       "    </tr>\n",
       "    <tr>\n",
       "      <th>2009-11-18</th>\n",
       "      <td>39.360001</td>\n",
       "    </tr>\n",
       "    <tr>\n",
       "      <th>2009-11-19</th>\n",
       "      <td>38.360001</td>\n",
       "    </tr>\n",
       "    <tr>\n",
       "      <th>2009-11-20</th>\n",
       "      <td>38.060001</td>\n",
       "    </tr>\n",
       "  </tbody>\n",
       "</table>\n",
       "</div>"
      ],
      "text/plain": [
       "                  xop\n",
       "Date                 \n",
       "2009-11-16  40.209999\n",
       "2009-11-17  39.759998\n",
       "2009-11-18  39.360001\n",
       "2009-11-19  38.360001\n",
       "2009-11-20  38.060001"
      ]
     },
     "execution_count": 5,
     "metadata": {},
     "output_type": "execute_result"
    }
   ],
   "source": [
    "xop = pd.read_csv('XOP.csv',parse_dates =[\"Date\"], index_col =\"Date\")\n",
    "xop = xop.drop(['Open','High','Low',\"Adj Close\",\"Volume\"], axis =1)\n",
    "xop.rename(columns={'Date':\"Date\",'Close':'xop'}, \n",
    "                 inplace=True)  \n",
    "xop = xop.loc['2009-11-16':'2019-09-30']\n",
    "xop.head()"
   ]
  },
  {
   "cell_type": "code",
   "execution_count": 6,
   "metadata": {},
   "outputs": [
    {
     "data": {
      "text/html": [
       "<div>\n",
       "<style scoped>\n",
       "    .dataframe tbody tr th:only-of-type {\n",
       "        vertical-align: middle;\n",
       "    }\n",
       "\n",
       "    .dataframe tbody tr th {\n",
       "        vertical-align: top;\n",
       "    }\n",
       "\n",
       "    .dataframe thead th {\n",
       "        text-align: right;\n",
       "    }\n",
       "</style>\n",
       "<table border=\"1\" class=\"dataframe\">\n",
       "  <thead>\n",
       "    <tr style=\"text-align: right;\">\n",
       "      <th></th>\n",
       "      <th>cpi</th>\n",
       "    </tr>\n",
       "    <tr>\n",
       "      <th>Label</th>\n",
       "      <th></th>\n",
       "    </tr>\n",
       "  </thead>\n",
       "  <tbody>\n",
       "    <tr>\n",
       "      <th>1983-04-04</th>\n",
       "      <td>98.6</td>\n",
       "    </tr>\n",
       "    <tr>\n",
       "      <th>1983-04-05</th>\n",
       "      <td>98.6</td>\n",
       "    </tr>\n",
       "    <tr>\n",
       "      <th>1983-04-06</th>\n",
       "      <td>98.6</td>\n",
       "    </tr>\n",
       "    <tr>\n",
       "      <th>1983-04-07</th>\n",
       "      <td>98.6</td>\n",
       "    </tr>\n",
       "    <tr>\n",
       "      <th>1983-04-08</th>\n",
       "      <td>98.6</td>\n",
       "    </tr>\n",
       "  </tbody>\n",
       "</table>\n",
       "</div>"
      ],
      "text/plain": [
       "             cpi\n",
       "Label           \n",
       "1983-04-04  98.6\n",
       "1983-04-05  98.6\n",
       "1983-04-06  98.6\n",
       "1983-04-07  98.6\n",
       "1983-04-08  98.6"
      ]
     },
     "execution_count": 6,
     "metadata": {},
     "output_type": "execute_result"
    }
   ],
   "source": [
    "cpi = pd.read_csv('CPI.csv',parse_dates =[\"Label\"], index_col =\"Label\")\n",
    "cpi = cpi.drop(['Series ID','Year','Period'], axis =1)\n",
    "cpi.rename(columns={'Value':'cpi'}, inplace=True)\n",
    "cpi = cpi.resample('D').ffill()\n",
    "cpi1 = cpi.loc['2009-11-16':'2019-09-30']\n",
    "cpi=cpi.loc['1983-04-04':'2019-10-01']\n",
    "cpi.head()"
   ]
  },
  {
   "cell_type": "code",
   "execution_count": 7,
   "metadata": {},
   "outputs": [
    {
     "data": {
      "text/html": [
       "<div>\n",
       "<style scoped>\n",
       "    .dataframe tbody tr th:only-of-type {\n",
       "        vertical-align: middle;\n",
       "    }\n",
       "\n",
       "    .dataframe tbody tr th {\n",
       "        vertical-align: top;\n",
       "    }\n",
       "\n",
       "    .dataframe thead th {\n",
       "        text-align: right;\n",
       "    }\n",
       "</style>\n",
       "<table border=\"1\" class=\"dataframe\">\n",
       "  <thead>\n",
       "    <tr style=\"text-align: right;\">\n",
       "      <th></th>\n",
       "      <th>Gold</th>\n",
       "    </tr>\n",
       "    <tr>\n",
       "      <th>date</th>\n",
       "      <th></th>\n",
       "    </tr>\n",
       "  </thead>\n",
       "  <tbody>\n",
       "    <tr>\n",
       "      <th>2009-11-20</th>\n",
       "      <td>1142.50</td>\n",
       "    </tr>\n",
       "    <tr>\n",
       "      <th>2009-11-23</th>\n",
       "      <td>1166.00</td>\n",
       "    </tr>\n",
       "    <tr>\n",
       "      <th>2009-11-24</th>\n",
       "      <td>1170.25</td>\n",
       "    </tr>\n",
       "    <tr>\n",
       "      <th>2009-11-25</th>\n",
       "      <td>1176.50</td>\n",
       "    </tr>\n",
       "    <tr>\n",
       "      <th>2009-11-26</th>\n",
       "      <td>1183.00</td>\n",
       "    </tr>\n",
       "  </tbody>\n",
       "</table>\n",
       "</div>"
      ],
      "text/plain": [
       "               Gold\n",
       "date               \n",
       "2009-11-20  1142.50\n",
       "2009-11-23  1166.00\n",
       "2009-11-24  1170.25\n",
       "2009-11-25  1176.50\n",
       "2009-11-26  1183.00"
      ]
     },
     "execution_count": 7,
     "metadata": {},
     "output_type": "execute_result"
    }
   ],
   "source": [
    "gold = pd.read_csv('Gold.csv',parse_dates =[\"date\"], index_col =\"date\")\n",
    "gold.rename(columns={'date':'date',' value':'Gold'}, \n",
    "                 inplace=True)\n",
    "gold = gold.loc['2009-11-16':'2019-09-30']    \n",
    "gold.head()"
   ]
  },
  {
   "cell_type": "code",
   "execution_count": 8,
   "metadata": {},
   "outputs": [
    {
     "data": {
      "text/html": [
       "<div>\n",
       "<style scoped>\n",
       "    .dataframe tbody tr th:only-of-type {\n",
       "        vertical-align: middle;\n",
       "    }\n",
       "\n",
       "    .dataframe tbody tr th {\n",
       "        vertical-align: top;\n",
       "    }\n",
       "\n",
       "    .dataframe thead th {\n",
       "        text-align: right;\n",
       "    }\n",
       "</style>\n",
       "<table border=\"1\" class=\"dataframe\">\n",
       "  <thead>\n",
       "    <tr style=\"text-align: right;\">\n",
       "      <th></th>\n",
       "      <th>money</th>\n",
       "    </tr>\n",
       "    <tr>\n",
       "      <th>DATE</th>\n",
       "      <th></th>\n",
       "    </tr>\n",
       "  </thead>\n",
       "  <tbody>\n",
       "    <tr>\n",
       "      <th>2009-11-18</th>\n",
       "      <td>1989940.0</td>\n",
       "    </tr>\n",
       "    <tr>\n",
       "      <th>2009-11-25</th>\n",
       "      <td>2072256.0</td>\n",
       "    </tr>\n",
       "    <tr>\n",
       "      <th>2009-12-02</th>\n",
       "      <td>2072256.0</td>\n",
       "    </tr>\n",
       "    <tr>\n",
       "      <th>2009-12-09</th>\n",
       "      <td>2036838.0</td>\n",
       "    </tr>\n",
       "    <tr>\n",
       "      <th>2009-12-16</th>\n",
       "      <td>2036838.0</td>\n",
       "    </tr>\n",
       "  </tbody>\n",
       "</table>\n",
       "</div>"
      ],
      "text/plain": [
       "                money\n",
       "DATE                 \n",
       "2009-11-18  1989940.0\n",
       "2009-11-25  2072256.0\n",
       "2009-12-02  2072256.0\n",
       "2009-12-09  2036838.0\n",
       "2009-12-16  2036838.0"
      ]
     },
     "execution_count": 8,
     "metadata": {},
     "output_type": "execute_result"
    }
   ],
   "source": [
    "money = pd.read_csv('moneybase.csv',parse_dates =[\"DATE\"], index_col =\"DATE\")\n",
    "money.rename(columns={'DATE':'DATE','BOGMBASEW':'money'}, \n",
    "                 inplace=True)\n",
    "money = money.loc['2009-11-16':'2019-09-30']    \n",
    "money.head()"
   ]
  },
  {
   "cell_type": "code",
   "execution_count": 9,
   "metadata": {},
   "outputs": [
    {
     "data": {
      "text/html": [
       "<div>\n",
       "<style scoped>\n",
       "    .dataframe tbody tr th:only-of-type {\n",
       "        vertical-align: middle;\n",
       "    }\n",
       "\n",
       "    .dataframe tbody tr th {\n",
       "        vertical-align: top;\n",
       "    }\n",
       "\n",
       "    .dataframe thead th {\n",
       "        text-align: right;\n",
       "    }\n",
       "</style>\n",
       "<table border=\"1\" class=\"dataframe\">\n",
       "  <thead>\n",
       "    <tr style=\"text-align: right;\">\n",
       "      <th></th>\n",
       "      <th>nyoil</th>\n",
       "      <th>10yearbond</th>\n",
       "      <th>rts</th>\n",
       "      <th>xop</th>\n",
       "      <th>cpi</th>\n",
       "      <th>Gold</th>\n",
       "      <th>money</th>\n",
       "    </tr>\n",
       "  </thead>\n",
       "  <tbody>\n",
       "    <tr>\n",
       "      <th>2009-11-16</th>\n",
       "      <td>78.90</td>\n",
       "      <td>3.33</td>\n",
       "      <td>1481.82</td>\n",
       "      <td>40.209999</td>\n",
       "      <td>216.33</td>\n",
       "      <td>NaN</td>\n",
       "      <td>NaN</td>\n",
       "    </tr>\n",
       "    <tr>\n",
       "      <th>2009-11-17</th>\n",
       "      <td>79.14</td>\n",
       "      <td>3.33</td>\n",
       "      <td>1472.76</td>\n",
       "      <td>39.759998</td>\n",
       "      <td>216.33</td>\n",
       "      <td>NaN</td>\n",
       "      <td>NaN</td>\n",
       "    </tr>\n",
       "    <tr>\n",
       "      <th>2009-11-18</th>\n",
       "      <td>79.58</td>\n",
       "      <td>3.36</td>\n",
       "      <td>1486.62</td>\n",
       "      <td>39.360001</td>\n",
       "      <td>216.33</td>\n",
       "      <td>NaN</td>\n",
       "      <td>1989940.0</td>\n",
       "    </tr>\n",
       "    <tr>\n",
       "      <th>2009-11-19</th>\n",
       "      <td>77.46</td>\n",
       "      <td>3.35</td>\n",
       "      <td>1451.20</td>\n",
       "      <td>38.360001</td>\n",
       "      <td>216.33</td>\n",
       "      <td>NaN</td>\n",
       "      <td>NaN</td>\n",
       "    </tr>\n",
       "    <tr>\n",
       "      <th>2009-11-20</th>\n",
       "      <td>76.72</td>\n",
       "      <td>3.36</td>\n",
       "      <td>1436.44</td>\n",
       "      <td>38.060001</td>\n",
       "      <td>216.33</td>\n",
       "      <td>1142.5</td>\n",
       "      <td>NaN</td>\n",
       "    </tr>\n",
       "  </tbody>\n",
       "</table>\n",
       "</div>"
      ],
      "text/plain": [
       "            nyoil  10yearbond      rts        xop     cpi    Gold      money\n",
       "2009-11-16  78.90        3.33  1481.82  40.209999  216.33     NaN        NaN\n",
       "2009-11-17  79.14        3.33  1472.76  39.759998  216.33     NaN        NaN\n",
       "2009-11-18  79.58        3.36  1486.62  39.360001  216.33     NaN  1989940.0\n",
       "2009-11-19  77.46        3.35  1451.20  38.360001  216.33     NaN        NaN\n",
       "2009-11-20  76.72        3.36  1436.44  38.060001  216.33  1142.5        NaN"
      ]
     },
     "execution_count": 9,
     "metadata": {},
     "output_type": "execute_result"
    }
   ],
   "source": [
    "finaldata= pd.concat([NYoil1,bond,rts,xop,cpi1,gold,money], axis=1)\n",
    "finaldata.head()"
   ]
  },
  {
   "cell_type": "code",
   "execution_count": 10,
   "metadata": {},
   "outputs": [
    {
     "data": {
      "text/plain": [
       "nyoil         0\n",
       "10yearbond    0\n",
       "rts           0\n",
       "xop           0\n",
       "cpi           0\n",
       "Gold          4\n",
       "money         2\n",
       "dtype: int64"
      ]
     },
     "execution_count": 10,
     "metadata": {},
     "output_type": "execute_result"
    }
   ],
   "source": [
    "finaldata.isnull().sum()\n",
    "finaldata=finaldata.fillna(method='pad')\n",
    "finaldata.isnull().sum()"
   ]
  },
  {
   "cell_type": "code",
   "execution_count": 11,
   "metadata": {
    "scrolled": true
   },
   "outputs": [
    {
     "data": {
      "text/html": [
       "<div>\n",
       "<style scoped>\n",
       "    .dataframe tbody tr th:only-of-type {\n",
       "        vertical-align: middle;\n",
       "    }\n",
       "\n",
       "    .dataframe tbody tr th {\n",
       "        vertical-align: top;\n",
       "    }\n",
       "\n",
       "    .dataframe thead th {\n",
       "        text-align: right;\n",
       "    }\n",
       "</style>\n",
       "<table border=\"1\" class=\"dataframe\">\n",
       "  <thead>\n",
       "    <tr style=\"text-align: right;\">\n",
       "      <th></th>\n",
       "      <th>nyoil</th>\n",
       "      <th>10yearbond</th>\n",
       "      <th>rts</th>\n",
       "      <th>xop</th>\n",
       "      <th>cpi</th>\n",
       "      <th>Gold</th>\n",
       "      <th>money</th>\n",
       "    </tr>\n",
       "  </thead>\n",
       "  <tbody>\n",
       "    <tr>\n",
       "      <th>2009-11-20</th>\n",
       "      <td>76.72</td>\n",
       "      <td>3.36</td>\n",
       "      <td>1436.44</td>\n",
       "      <td>38.060001</td>\n",
       "      <td>216.33</td>\n",
       "      <td>1142.50</td>\n",
       "      <td>1989940.0</td>\n",
       "    </tr>\n",
       "    <tr>\n",
       "      <th>2009-11-21</th>\n",
       "      <td>76.72</td>\n",
       "      <td>3.36</td>\n",
       "      <td>1436.44</td>\n",
       "      <td>38.060001</td>\n",
       "      <td>216.33</td>\n",
       "      <td>1142.50</td>\n",
       "      <td>1989940.0</td>\n",
       "    </tr>\n",
       "    <tr>\n",
       "      <th>2009-11-22</th>\n",
       "      <td>76.72</td>\n",
       "      <td>3.36</td>\n",
       "      <td>1436.44</td>\n",
       "      <td>38.060001</td>\n",
       "      <td>216.33</td>\n",
       "      <td>1142.50</td>\n",
       "      <td>1989940.0</td>\n",
       "    </tr>\n",
       "    <tr>\n",
       "      <th>2009-11-23</th>\n",
       "      <td>77.56</td>\n",
       "      <td>3.37</td>\n",
       "      <td>1466.77</td>\n",
       "      <td>38.480000</td>\n",
       "      <td>216.33</td>\n",
       "      <td>1166.00</td>\n",
       "      <td>1989940.0</td>\n",
       "    </tr>\n",
       "    <tr>\n",
       "      <th>2009-11-24</th>\n",
       "      <td>76.02</td>\n",
       "      <td>3.32</td>\n",
       "      <td>1447.23</td>\n",
       "      <td>38.720001</td>\n",
       "      <td>216.33</td>\n",
       "      <td>1170.25</td>\n",
       "      <td>1989940.0</td>\n",
       "    </tr>\n",
       "  </tbody>\n",
       "</table>\n",
       "</div>"
      ],
      "text/plain": [
       "            nyoil  10yearbond      rts        xop     cpi     Gold      money\n",
       "2009-11-20  76.72        3.36  1436.44  38.060001  216.33  1142.50  1989940.0\n",
       "2009-11-21  76.72        3.36  1436.44  38.060001  216.33  1142.50  1989940.0\n",
       "2009-11-22  76.72        3.36  1436.44  38.060001  216.33  1142.50  1989940.0\n",
       "2009-11-23  77.56        3.37  1466.77  38.480000  216.33  1166.00  1989940.0\n",
       "2009-11-24  76.02        3.32  1447.23  38.720001  216.33  1170.25  1989940.0"
      ]
     },
     "execution_count": 11,
     "metadata": {},
     "output_type": "execute_result"
    }
   ],
   "source": [
    "finaldata = finaldata.dropna()\n",
    "finaldata.head()"
   ]
  },
  {
   "cell_type": "code",
   "execution_count": 38,
   "metadata": {},
   "outputs": [
    {
     "data": {
      "text/plain": [
       "2009-11-20    38.060001\n",
       "2009-11-21    38.060001\n",
       "2009-11-22    38.060001\n",
       "2009-11-23    38.480000\n",
       "2009-11-24    38.720001\n",
       "Name: xop, dtype: float64"
      ]
     },
     "execution_count": 38,
     "metadata": {},
     "output_type": "execute_result"
    }
   ],
   "source": [
    "Y = finaldata['xop']\n",
    "X1 = finaldata.copy().drop(['xop'], axis =1)\n",
    "Y.head()"
   ]
  },
  {
   "cell_type": "markdown",
   "metadata": {},
   "source": [
    "## time series split and feature selection"
   ]
  },
  {
   "cell_type": "code",
   "execution_count": 66,
   "metadata": {
    "scrolled": true
   },
   "outputs": [
    {
     "name": "stdout",
     "output_type": "stream",
     "text": [
      "r2 score: -1.4016747412723056\n",
      "Training Observations: 722\n",
      "Testing Observations: 720\n",
      "r2 score: 0.6682327592877004\n",
      "Training Observations: 1442\n",
      "Testing Observations: 720\n",
      "r2 score: -2.03117416663813\n",
      "Training Observations: 2162\n",
      "Testing Observations: 720\n",
      "r2 score: 0.5694103781005946\n",
      "Training Observations: 2882\n",
      "Testing Observations: 720\n"
     ]
    }
   ],
   "source": [
    "from sklearn.model_selection import TimeSeriesSplit\n",
    "from sklearn.feature_selection import RFE\n",
    "from sklearn.linear_model import LinearRegression\n",
    "from sklearn.metrics import r2_score\n",
    "X = X1.values\n",
    "splits = TimeSeriesSplit(n_splits=4)\n",
    "for train_index, test_index in splits.split(X):\n",
    "    X_train = X[train_index]\n",
    "    X_test = X[test_index]\n",
    "    Y_train = Y[train_index]\n",
    "    Y_test = Y[test_index]\n",
    "    model = LinearRegression()\n",
    "    rfe = RFE(model, 6)\n",
    "    fit = rfe.fit(X_train, Y_train)\n",
    "    predict = rfe.predict(X_test)\n",
    "    r2 = r2_score(Y_test, predict)\n",
    "    print(\"r2 score:\", r2)\n",
    "    print('Training Observations: %d' % (len(X_train)))\n",
    "    print('Testing Observations: %d' % (len(X_test)))"
   ]
  },
  {
   "cell_type": "code",
   "execution_count": 68,
   "metadata": {},
   "outputs": [],
   "source": [
    "nobs = 720\n",
    "X_train, X_test = X1[0:-nobs], X1[-nobs:]\n",
    "Y_train, Y_test = Y[0:-nobs], Y[-nobs:]"
   ]
  },
  {
   "cell_type": "markdown",
   "metadata": {},
   "source": [
    "# Model"
   ]
  },
  {
   "cell_type": "code",
   "execution_count": 69,
   "metadata": {},
   "outputs": [
    {
     "data": {
      "text/html": [
       "<div>\n",
       "<style scoped>\n",
       "    .dataframe tbody tr th:only-of-type {\n",
       "        vertical-align: middle;\n",
       "    }\n",
       "\n",
       "    .dataframe tbody tr th {\n",
       "        vertical-align: top;\n",
       "    }\n",
       "\n",
       "    .dataframe thead th {\n",
       "        text-align: right;\n",
       "    }\n",
       "</style>\n",
       "<table border=\"1\" class=\"dataframe\">\n",
       "  <thead>\n",
       "    <tr style=\"text-align: right;\">\n",
       "      <th></th>\n",
       "      <th>0</th>\n",
       "    </tr>\n",
       "  </thead>\n",
       "  <tbody>\n",
       "    <tr>\n",
       "      <th>2017-10-11</th>\n",
       "      <td>36.137280</td>\n",
       "    </tr>\n",
       "    <tr>\n",
       "      <th>2017-10-12</th>\n",
       "      <td>35.792619</td>\n",
       "    </tr>\n",
       "    <tr>\n",
       "      <th>2017-10-13</th>\n",
       "      <td>36.473311</td>\n",
       "    </tr>\n",
       "    <tr>\n",
       "      <th>2017-10-14</th>\n",
       "      <td>36.473311</td>\n",
       "    </tr>\n",
       "    <tr>\n",
       "      <th>2017-10-15</th>\n",
       "      <td>36.473311</td>\n",
       "    </tr>\n",
       "  </tbody>\n",
       "</table>\n",
       "</div>"
      ],
      "text/plain": [
       "                    0\n",
       "2017-10-11  36.137280\n",
       "2017-10-12  35.792619\n",
       "2017-10-13  36.473311\n",
       "2017-10-14  36.473311\n",
       "2017-10-15  36.473311"
      ]
     },
     "execution_count": 69,
     "metadata": {},
     "output_type": "execute_result"
    }
   ],
   "source": [
    "model = LinearRegression()\n",
    "model.fit(X_train,Y_train)\n",
    "preds = model.predict(X_test)\n",
    "pred_data_LR = pd.DataFrame(preds, index = finaldata.index[-nobs:])\n",
    "pred_data_LR.head()"
   ]
  },
  {
   "cell_type": "code",
   "execution_count": 75,
   "metadata": {},
   "outputs": [
    {
     "data": {
      "image/png": "[encoded data removed]",
      "text/plain": [
       "<Figure size 864x360 with 1 Axes>"
      ]
     },
     "metadata": {
      "needs_background": "light"
     },
     "output_type": "display_data"
    }
   ],
   "source": [
    "plt.figure(figsize=(12,5))\n",
    "plt.plot(Y_train[2200:3310])\n",
    "plt.plot(Y_test)\n",
    "plt.plot(pred_data_LR)\n",
    "plt.title(\"Predicted VS Actual XOP Price\")\n",
    "plt.savefig('XOP_LinReg.png')"
   ]
  },
  {
   "cell_type": "code",
   "execution_count": null,
   "metadata": {},
   "outputs": [],
   "source": []
  }
 ],
 "metadata": {
  "kernelspec": {
   "display_name": "Python 3",
   "language": "python",
   "name": "python3"
  },
  "language_info": {
   "codemirror_mode": {
    "name": "ipython",
    "version": 3
   },
   "file_extension": ".py",
   "mimetype": "text/x-python",
   "name": "python",
   "nbconvert_exporter": "python",
   "pygments_lexer": "ipython3",
   "version": "3.7.3"
  }
 },
 "nbformat": 4,
 "nbformat_minor": 2
}
